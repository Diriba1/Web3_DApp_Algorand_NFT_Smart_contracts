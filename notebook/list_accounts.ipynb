{
 "cells": [
  {
   "cell_type": "code",
   "execution_count": null,
   "metadata": {},
   "outputs": [],
   "source": [
    "from beaker import sandbox\n",
    "\n",
    "client = sandbox.get_algod_client()\n",
    "accounts = sandbox.get_accounts()\n",
    "\n",
    "for account in accounts:\n",
    "    pk = account.address\n",
    "    account_info = client.account_info(pk)\n",
    "    balance = account_info.get('amount')\n",
    "    print(f\"Account balance {pk[:5]}...{pk[-5:]}: {balance:,.0f} microAlgos\")"
   ]
  }
 ],
 "metadata": {
  "language_info": {
   "name": "python"
  }
 },
 "nbformat": 4,
 "nbformat_minor": 2
}
